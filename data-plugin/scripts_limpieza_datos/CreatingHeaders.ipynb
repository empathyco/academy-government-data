{
 "cells": [
  {
   "cell_type": "markdown",
   "metadata": {},
   "source": [
    "# Inclusión de las cabeceras"
   ]
  },
  {
   "cell_type": "markdown",
   "metadata": {},
   "source": [
    "Los datos estaban separados de sus cabeceras, por lo que antes de indexarlos debemos juntarlos en una tabla para guardarlos en un CSV."
   ]
  },
  {
   "cell_type": "code",
   "execution_count": 2,
   "metadata": {},
   "outputs": [],
   "source": [
    "import pandas as pd\n",
    "import numpy as np"
   ]
  },
  {
   "cell_type": "code",
   "execution_count": 3,
   "metadata": {},
   "outputs": [
    {
     "name": "stderr",
     "output_type": "stream",
     "text": [
      "/Users/pablosanturioalonso/opt/anaconda3/lib/python3.9/site-packages/IPython/core/interactiveshell.py:3444: DtypeWarning: Columns (14) have mixed types.Specify dtype option on import or set low_memory=False.\n",
      "  exec(code_obj, self.user_global_ns, self.user_ns)\n",
      "/Users/pablosanturioalonso/opt/anaconda3/lib/python3.9/site-packages/IPython/core/interactiveshell.py:3444: DtypeWarning: Columns (1,9) have mixed types.Specify dtype option on import or set low_memory=False.\n",
      "  exec(code_obj, self.user_global_ns, self.user_ns)\n",
      "/Users/pablosanturioalonso/opt/anaconda3/lib/python3.9/site-packages/IPython/core/interactiveshell.py:3444: DtypeWarning: Columns (2,10) have mixed types.Specify dtype option on import or set low_memory=False.\n",
      "  exec(code_obj, self.user_global_ns, self.user_ns)\n"
     ]
    }
   ],
   "source": [
    "juridicas1=pd.read_csv(\"juridicas_1.csv\",header=None)\n",
    "juridicas2=pd.read_csv(\"juridicas_2.csv\",header=None)\n",
    "convocatorias=pd.read_csv(\"convocatorias.csv\",header=None)"
   ]
  },
  {
   "cell_type": "markdown",
   "metadata": {},
   "source": [
    "Había dos conjuntos de datos \"juridicas\" (En realidad son concesiones), por lo que debemos juntarlos en uno solo."
   ]
  },
  {
   "cell_type": "code",
   "execution_count": 9,
   "metadata": {},
   "outputs": [],
   "source": [
    "juridicasNoHeader=pd.concat([juridicas1,juridicas2])"
   ]
  },
  {
   "cell_type": "markdown",
   "metadata": {},
   "source": [
    "Añadimos las cabeceras:"
   ]
  },
  {
   "cell_type": "code",
   "execution_count": 10,
   "metadata": {},
   "outputs": [],
   "source": [
    "convocatorias.columns=[ 'id', 'codigo_bdns', 'MRR', 'administracion', 'departamento',\n",
    "       'organo', 'fecha_registro', 'titulo_convocatoria', 'url_bases_regul',\n",
    "       'titulo_cooficial', 'colDesconocida1', 'colDesconocida2',\n",
    "       'colDesconocida3']\n",
    "\n",
    "\n",
    "juridicasNoHeader.columns=[ 'id', 'id_convocatoria', 'administracion', 'departamento',\n",
    "       'organo', 'titulo_convocatoria', 'url_bases_regul',\n",
    "       'apli_presupuestaria', 'fecha_concesion', 'beneficiario', 'importe',\n",
    "       'instrumento', 'ayuda_equivalente', 'detalles', 'codigo_bdns',\n",
    "       'valor_desconocido', 'id_interna']\n"
   ]
  },
  {
   "cell_type": "markdown",
   "metadata": {},
   "source": [
    "Guardamos los datos en dos CSVs:"
   ]
  },
  {
   "cell_type": "code",
   "execution_count": 12,
   "metadata": {},
   "outputs": [],
   "source": [
    "juridicasNoHeader.to_csv(\"concesionesHeader.csv\")\n",
    "convocatorias.to_csv(\"convocatoriasHeader\")"
   ]
  }
 ],
 "metadata": {
  "kernelspec": {
   "display_name": "Python 3.9.7 ('base')",
   "language": "python",
   "name": "python3"
  },
  "language_info": {
   "codemirror_mode": {
    "name": "ipython",
    "version": 3
   },
   "file_extension": ".py",
   "mimetype": "text/x-python",
   "name": "python",
   "nbconvert_exporter": "python",
   "pygments_lexer": "ipython3",
   "version": "3.9.7"
  },
  "orig_nbformat": 4,
  "vscode": {
   "interpreter": {
    "hash": "ed4657cb9826a63fe85d3a12f62d05b0061712ac7f3ef3f10226cd76d1150fb7"
   }
  }
 },
 "nbformat": 4,
 "nbformat_minor": 2
}
